{
  "nbformat": 4,
  "nbformat_minor": 0,
  "metadata": {
    "colab": {
      "provenance": [],
      "authorship_tag": "ABX9TyMQdR8Jffa2kL6jxGqyK6e6",
      "include_colab_link": true
    },
    "kernelspec": {
      "name": "python3",
      "display_name": "Python 3"
    },
    "language_info": {
      "name": "python"
    }
  },
  "cells": [
    {
      "cell_type": "markdown",
      "metadata": {
        "id": "view-in-github",
        "colab_type": "text"
      },
      "source": [
        "<a href=\"https://colab.research.google.com/github/maimuna01/NeuralNetworks/blob/main/SPDTA.ipynb\" target=\"_parent\"><img src=\"https://colab.research.google.com/assets/colab-badge.svg\" alt=\"Open In Colab\"/></a>"
      ]
    },
    {
      "cell_type": "code",
      "execution_count": 1,
      "metadata": {
        "colab": {
          "base_uri": "https://localhost:8080/"
        },
        "id": "y4KKfgAGF9Vk",
        "outputId": "920a9b02-ed34-4cf4-9faf-f7746375a0dc"
      },
      "outputs": [
        {
          "output_type": "stream",
          "name": "stdout",
          "text": [
            "Final weight vector: [-3.   2.   2.   2.5]\n",
            "Total error: 0\n",
            "Number of iterations: 2\n",
            "Input: [ 1. -2.  0. -1.] -> Output: -1, No change\n",
            "Input: [ 0.   1.5 -0.5 -1. ] -> Output: -1, No change\n",
            "Input: [-1.   1.   0.5 -1. ] -> Output: 1, No change\n"
          ]
        }
      ],
      "source": [
        "import numpy as np\n",
        "\n",
        "# Training data\n",
        "# First input vector: x1 = 1, x2 = -2, x3 = 0, x4 = -1\n",
        "# Second input vector: x1 = 0, x2 = 1.5, x3 = -0.5, x4 = -1\n",
        "# Third input vector: x1 = -1, x2 = 1, x3 = 0.5, x4 = -1\n",
        "inputs = np.array([\n",
        "    [1, -2, 0, -1],\n",
        "    [0, 1.5, -0.5, -1],\n",
        "    [-1, 1, 0.5, -1]\n",
        "])\n",
        "desired_outputs = np.array([-1, -1, 1])\n",
        "\n",
        "# Initialize weights\n",
        "weights = np.array([1, -1, 0, 0.5])\n",
        "learning_rate = 1\n",
        "iterations = 0\n",
        "\n",
        "# Training phase\n",
        "total_error = float('inf')\n",
        "while total_error != 0:\n",
        "    total_error = 0\n",
        "    for i in range(len(inputs)):\n",
        "        net_input = np.dot(weights, inputs[i, :])\n",
        "        output = 1 if net_input >= 0 else -1\n",
        "        error = desired_outputs[i] - output\n",
        "        total_error += abs(error)\n",
        "        # Update weights only if there is an error\n",
        "        if error != 0:\n",
        "            weights = weights + learning_rate * error * inputs[i, :]\n",
        "    iterations += 1\n",
        "\n",
        "# Display the final weight vector\n",
        "print(\"Final weight vector:\", weights)\n",
        "print(\"Total error:\", total_error)\n",
        "print(\"Number of iterations:\", iterations)\n",
        "\n",
        "# Recalculation using final weights\n",
        "for i in range(len(inputs)):\n",
        "    net_input = np.dot(weights, inputs[i, :])\n",
        "    output = 1 if net_input >= 0 else -1\n",
        "    if output == desired_outputs[i]:\n",
        "        print(f\"Input: {inputs[i]} -> Output: {output}, No change\")\n",
        "    else:\n",
        "        print(f\"Input: {inputs[i]} -> Output: {output}, Change needed\")\n"
      ]
    },
    {
      "cell_type": "code",
      "source": [
        "import numpy as np\n",
        "\n",
        "# Input data and desired outputs\n",
        "inputs = np.array([\n",
        "    [1, -2, 0, -1],\n",
        "    [0, 1.5, -0.5, -1],\n",
        "    [-1, 1, 0.5, -1]\n",
        "])\n",
        "desired_outputs = np.array([-1, -1, 1])\n",
        "\n",
        "# Recall function to validate the output\n",
        "def recall_func(weights, inputs, desired_outputs):\n",
        "    for i in range(len(inputs)):\n",
        "        net_input = np.dot(weights, inputs[i, :])\n",
        "        output = 1 if net_input >= 0 else -1\n",
        "        if output == desired_outputs[i]:\n",
        "            print(\"Y\", i + 1, \"=\", output, \"D\", i + 1, \"=\", desired_outputs[i])\n",
        "\n",
        "# Initialize weights, learning rate, and other variables\n",
        "weights = np.array([1, -1, 0, 0.5])\n",
        "learning_rate = 1\n",
        "total_error = float('inf')\n",
        "iterations = 0\n",
        "\n",
        "# Training loop\n",
        "while total_error != 0:\n",
        "    total_error = 0\n",
        "    for i in range(len(inputs)):\n",
        "        net_input = np.dot(weights, inputs[i, :])\n",
        "        output = 1 if net_input >= 0 else -1\n",
        "        error = desired_outputs[i] - output\n",
        "        total_error += abs(error)\n",
        "\n",
        "        # Update weights if there is an error\n",
        "        weights = weights + learning_rate * error * inputs[i, :]\n",
        "\n",
        "    iterations += 1\n",
        "\n",
        "# Print the final results\n",
        "print(\"Final weight vector:\", weights)\n",
        "recall_func(weights, inputs, desired_outputs)\n",
        "print(\"Total error:\", total_error)\n",
        "print(\"Number of iterations:\", iterations)\n"
      ],
      "metadata": {
        "colab": {
          "base_uri": "https://localhost:8080/"
        },
        "id": "aURJEtd4Gf7j",
        "outputId": "0314fc03-9096-4f7a-d29f-9772ff548ae6"
      },
      "execution_count": 3,
      "outputs": [
        {
          "output_type": "stream",
          "name": "stdout",
          "text": [
            "Final weight vector: [-3.   2.   2.   2.5]\n",
            "Y 1 = -1 D 1 = -1\n",
            "Y 2 = -1 D 2 = -1\n",
            "Y 3 = 1 D 3 = 1\n",
            "Total error: 0\n",
            "Number of iterations: 2\n"
          ]
        }
      ]
    }
  ]
}