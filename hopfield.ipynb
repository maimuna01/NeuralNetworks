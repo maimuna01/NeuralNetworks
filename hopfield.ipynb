{
  "nbformat": 4,
  "nbformat_minor": 0,
  "metadata": {
    "colab": {
      "provenance": [],
      "authorship_tag": "ABX9TyMRrOtYwgnZlLt5xfodFqLc",
      "include_colab_link": true
    },
    "kernelspec": {
      "name": "python3",
      "display_name": "Python 3"
    },
    "language_info": {
      "name": "python"
    }
  },
  "cells": [
    {
      "cell_type": "markdown",
      "metadata": {
        "id": "view-in-github",
        "colab_type": "text"
      },
      "source": [
        "<a href=\"https://colab.research.google.com/github/maimuna01/NeuralNetworks/blob/main/hopfield.ipynb\" target=\"_parent\"><img src=\"https://colab.research.google.com/assets/colab-badge.svg\" alt=\"Open In Colab\"/></a>"
      ]
    },
    {
      "cell_type": "code",
      "execution_count": null,
      "metadata": {
        "colab": {
          "base_uri": "https://localhost:8080/"
        },
        "id": "8_-e8zelRhdG",
        "outputId": "ce04f7db-af6e-4204-bd86-c2cf6ee080a4"
      },
      "outputs": [
        {
          "output_type": "stream",
          "name": "stdout",
          "text": [
            "[[0. 1. 1. 0.]\n",
            " [1. 0. 1. 0.]\n",
            " [1. 1. 0. 0.]\n",
            " [0. 0. 0. 0.]]\n",
            "Convergence has been obtained\n",
            "The converged output:\n",
            "[1 1 1 0]\n"
          ]
        }
      ],
      "source": [
        "import numpy as np\n",
        "\n",
        "# Initial pattern and target pattern\n",
        "x = np.array([1, 1, 1, 0])  # Stored pattern\n",
        "tx = np.array([0, 0, 1, 0])  # Test pattern or noisy input\n",
        "\n",
        "# Initialize weight matrix with zeros\n",
        "w = np.zeros((4, 4))\n",
        "\n",
        "# Initial state of the network\n",
        "y = np.array([0, 0, 1, 0])\n",
        "\n",
        "# Convergence flag\n",
        "con = True\n",
        "\n",
        "# Update order\n",
        "up = [0, 1, 2, 3]  # A custom order for updating nodes, as in original\n",
        "\n",
        "# Local multiplication update rule for weights\n",
        "for i in range(4):\n",
        "    for j in range(4):\n",
        "        if i != j:\n",
        "            w[i, j] = x[i] * x[j]\n",
        "\n",
        "#Display weight matrix\n",
        "print(w)\n",
        "\n",
        "# Start iterative update\n",
        "while con:\n",
        "    yin = np.zeros(4)  # Yin will store the net input for each neuron\n",
        "    for i in up:  # Update the neurons in the specified order\n",
        "        yin[i] = tx[i] + np.dot(y, w[:, i])\n",
        "\n",
        "        # Activation function: Threshold at 0\n",
        "        if yin[i] > 0:\n",
        "            y[i] = 1\n",
        "        else:\n",
        "            y[i] = 0\n",
        "\n",
        "    # Check for convergence: if current state y matches the stored pattern x\n",
        "    if np.array_equal(y, x):\n",
        "        print('Convergence has been obtained')\n",
        "        print('The converged output:')\n",
        "        print(y)\n",
        "        con = False  # End the loop if convergence is reached\n"
      ]
    },
    {
      "cell_type": "code",
      "source": [
        "import numpy as np\n",
        "\n",
        "# Define the stored pattern and initialize parameters\n",
        "stored_pattern = np.array([1, 1, 1, 0]) * 2 - 1  # Convert to bipolar form: [1, 1, 1, -1]\n",
        "n = len(stored_pattern)\n",
        "weights = np.zeros((n, n))\n",
        "\n",
        "# Create the weight matrix using Hebbian learning\n",
        "for i in range(n):\n",
        "    for j in range(n):\n",
        "        if i != j:\n",
        "            weights[i, j] = stored_pattern[i] * stored_pattern[j]\n",
        "\n",
        "# Define the update function for the Hopfield network\n",
        "def hopfield_update(input_pattern, weights):\n",
        "    output_pattern = np.copy(input_pattern)\n",
        "    for i in range(len(output_pattern)):\n",
        "        net_input = np.dot(weights[i], output_pattern)\n",
        "        output_pattern[i] = 1 if net_input >= 0 else -1\n",
        "    return output_pattern\n",
        "\n",
        "# Introduce a noisy pattern to test retrieval\n",
        "noisy_pattern = np.array([-1, -1, 1, -1])\n",
        "\n",
        "# Display the noisy input pattern\n",
        "print(\"Noisy Input:\", noisy_pattern)\n",
        "\n",
        "# Initialize the pattern to the noisy input and iteratively update\n",
        "prev_pattern = noisy_pattern\n",
        "for _ in range(10):  # Limit to 10 iterations to check for convergence\n",
        "    new_pattern = hopfield_update(prev_pattern, weights)\n",
        "    if np.array_equal(new_pattern, prev_pattern):  # Check if the pattern has stabilized\n",
        "        break\n",
        "    prev_pattern = new_pattern\n",
        "\n",
        "# Display the converged output pattern\n",
        "print(\"Converged Output:\", new_pattern)\n",
        "\n",
        "# Check if the converged output matches the stored pattern\n",
        "if np.array_equal(new_pattern, stored_pattern):\n",
        "    print(\"Pattern successfully retrieved and converged to:\", stored_pattern)\n",
        "else:\n",
        "    print(\"Pattern did not converge to the original pattern.\")\n"
      ],
      "metadata": {
        "id": "Kgiw_O_IU0o3",
        "outputId": "9007bc14-09a4-4b9a-a22e-e3f415d3434e",
        "colab": {
          "base_uri": "https://localhost:8080/"
        }
      },
      "execution_count": null,
      "outputs": [
        {
          "output_type": "stream",
          "name": "stdout",
          "text": [
            "Noisy Input: [-1 -1  1 -1]\n",
            "Converged Output: [ 1  1  1 -1]\n",
            "Pattern successfully retrieved and converged to: [ 1  1  1 -1]\n"
          ]
        }
      ]
    }
  ]
}