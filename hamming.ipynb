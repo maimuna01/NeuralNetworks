{
  "nbformat": 4,
  "nbformat_minor": 0,
  "metadata": {
    "colab": {
      "provenance": [],
      "authorship_tag": "ABX9TyPiMgtMuA5RfKGIjgyRMwwk",
      "include_colab_link": true
    },
    "kernelspec": {
      "name": "python3",
      "display_name": "Python 3"
    },
    "language_info": {
      "name": "python"
    }
  },
  "cells": [
    {
      "cell_type": "markdown",
      "metadata": {
        "id": "view-in-github",
        "colab_type": "text"
      },
      "source": [
        "<a href=\"https://colab.research.google.com/github/maimuna01/NeuralNetworks/blob/main/hamming.ipynb\" target=\"_parent\"><img src=\"https://colab.research.google.com/assets/colab-badge.svg\" alt=\"Open In Colab\"/></a>"
      ]
    },
    {
      "cell_type": "code",
      "source": [
        "import numpy as np\n",
        "\n",
        "# Define the stored patterns in the Hamming network\n",
        "patterns = np.array([\n",
        "    [1, 0, 1, 0, 1, 0, 1, 0, 1, 0],\n",
        "    [0, 1, 0, 1, 0, 1, 0, 1, 0, 1],\n",
        "    [1, 1, 0, 0, 1, 1, 0, 0, 1, 1],\n",
        "    [0, 0, 1, 1, 0, 0, 1, 1, 0, 0],\n",
        "    [1, 0, 0, 1, 1, 0, 0, 1, 1, 0],\n",
        "    [0, 1, 1, 0, 0, 1, 1, 0, 0, 1],\n",
        "    [1, 1, 1, 0, 0, 1, 1, 1, 0, 0],\n",
        "    [0, 0, 0, 1, 1, 0, 1, 1, 1, 0],\n",
        "    [1, 0, 1, 1, 0, 1, 1, 0, 1, 0],\n",
        "    [0, 1, 0, 0, 1, 0, 0, 1, 0, 1]\n",
        "])\n",
        "\n",
        "# Define the input pattern to be recognized\n",
        "input_pattern = np.array([1, 0, 1, 0, 1, 0, 1, 1, 0, 1])\n",
        "\n",
        "# Calculate Hamming distances between input pattern and stored patterns\n",
        "hamming_distances = np.sum(np.abs(patterns - input_pattern), axis=1)\n",
        "\n",
        "# Find the index of the pattern with the minimum Hamming distance\n",
        "closest_pattern_index = np.argmin(hamming_distances)\n",
        "closest_pattern = patterns[closest_pattern_index]\n",
        "\n",
        "# Print results\n",
        "print(\"Input Pattern:\", input_pattern)\n",
        "print(\"Closest Stored Pattern:\", closest_pattern)\n",
        "print(\"Hamming Distance:\", hamming_distances[closest_pattern_index])\n"
      ],
      "metadata": {
        "colab": {
          "base_uri": "https://localhost:8080/"
        },
        "id": "6BY57q4ZVv_0",
        "outputId": "8c6b2dc1-5f56-4726-ec8a-92a3e1865e4a"
      },
      "execution_count": 3,
      "outputs": [
        {
          "output_type": "stream",
          "name": "stdout",
          "text": [
            "Input Pattern: [1 0 1 0 1 0 1 1 0 1]\n",
            "Closest Stored Pattern: [1 0 1 0 1 0 1 0 1 0]\n",
            "Hamming Distance: 3\n"
          ]
        }
      ]
    },
    {
      "cell_type": "code",
      "execution_count": 6,
      "metadata": {
        "colab": {
          "base_uri": "https://localhost:8080/"
        },
        "id": "7Ic4FCVVRspa",
        "outputId": "1ac6b749-b7b4-40e0-bc3f-325be0f15796"
      },
      "outputs": [
        {
          "output_type": "stream",
          "name": "stdout",
          "text": [
            "Input Pattern:         [0 0 1 1 0 0 1 1 1 0]\n",
            "Recognized Pattern:    [0 0 1 1 0 0 1 1 1 0]\n",
            "Recognized Pattern Index: 5\n"
          ]
        }
      ],
      "source": [
        "\n",
        "\n",
        "import numpy as np\n",
        "\n",
        "class HammingNetwork:\n",
        "    def __init__(self, patterns):\n",
        "        self.patterns = patterns\n",
        "        self.num_patterns, self.pattern_length = patterns.shape\n",
        "        # Initialize weight matrix to store original patterns directly\n",
        "        self.weights = self.patterns.copy()\n",
        "        # Set a constant bias of 1\n",
        "        self.bias = np.ones(self.num_patterns)\n",
        "\n",
        "    def compute_net_input(self, input_pattern):\n",
        "        # Compute net input by comparing input pattern with stored patterns\n",
        "        net_input = np.dot(self.weights, input_pattern) + self.bias\n",
        "        return net_input\n",
        "\n",
        "    def recognize_pattern(self, input_pattern):\n",
        "        # Compute net input for input pattern\n",
        "        net_input = self.compute_net_input(input_pattern)\n",
        "        # Find the index of the pattern with the maximum net input\n",
        "        recognized_index = np.argmax(net_input)\n",
        "        return recognized_index, self.patterns[recognized_index]\n",
        "\n",
        "\n",
        "# Define the 10 binary patterns to store (10-digit patterns)\n",
        "patterns = np.array([\n",
        "    [0, 1, 0, 1, 1, 0, 0, 1, 0, 1],\n",
        "    [1, 0, 1, 1, 0, 1, 0, 1, 0, 0],\n",
        "    [1, 1, 1, 0, 0, 1, 0, 0, 1, 1],\n",
        "    [0, 1, 1, 0, 1, 1, 1, 0, 0, 1],\n",
        "    [1, 0, 0, 1, 1, 1, 0, 1, 1, 0],\n",
        "    [0, 0, 1, 1, 0, 0, 1, 1, 1, 0],\n",
        "    [1, 1, 0, 1, 1, 0, 1, 0, 0, 0],\n",
        "    [0, 1, 1, 1, 0, 1, 0, 0, 1, 0],\n",
        "    [1, 0, 0, 1, 0, 1, 1, 1, 0, 1],\n",
        "    [0, 1, 0, 1, 0, 0, 0, 1, 1, 1]\n",
        "])\n",
        "\n",
        "# Instantiate Hamming Network with stored patterns\n",
        "network = HammingNetwork(patterns)\n",
        "\n",
        "# Define an input pattern to recognize\n",
        "input_pattern = np.array([0, 0, 1, 1, 0, 0, 1, 1, 1, 0])\n",
        "\n",
        "# Recognize the pattern\n",
        "recognized_index, recognized_pattern = network.recognize_pattern(input_pattern)\n",
        "\n",
        "# Output the results\n",
        "print(\"Input Pattern:        \", input_pattern)\n",
        "print(\"Recognized Pattern:   \", recognized_pattern)\n",
        "print(\"Recognized Pattern Index:\", recognized_index)\n"
      ]
    }
  ]
}