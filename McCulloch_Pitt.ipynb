{
  "nbformat": 4,
  "nbformat_minor": 0,
  "metadata": {
    "colab": {
      "provenance": [],
      "authorship_tag": "ABX9TyMfZFrg7G5ok1dFyCgzhEiu",
      "include_colab_link": true
    },
    "kernelspec": {
      "name": "python3",
      "display_name": "Python 3"
    },
    "language_info": {
      "name": "python"
    }
  },
  "cells": [
    {
      "cell_type": "markdown",
      "metadata": {
        "id": "view-in-github",
        "colab_type": "text"
      },
      "source": [
        "<a href=\"https://colab.research.google.com/github/maimuna01/NeuralNetworks/blob/main/McCulloch_Pitt.ipynb\" target=\"_parent\"><img src=\"https://colab.research.google.com/assets/colab-badge.svg\" alt=\"Open In Colab\"/></a>"
      ]
    },
    {
      "cell_type": "markdown",
      "source": [
        "AND Function using McCulloch-Pitts Neurons with threshold 2"
      ],
      "metadata": {
        "id": "SPf1p4xS9w7-"
      }
    },
    {
      "cell_type": "code",
      "source": [
        "def mcCullochPitts_AND(x1, x2, threshold):\n",
        "    weights = [1, 1]\n",
        "\n",
        "    weighted_sum = weights[0] * x1 + weights[1] * x2\n",
        "\n",
        "    if weighted_sum >= threshold:\n",
        "        return 1\n",
        "    else:\n",
        "        return 0\n",
        "\n",
        "test_inputs = [(0, 0), (0, 1), (1, 0), (1, 1)]\n",
        "threshold = 2\n",
        "print(f\"AND Function using McCulloch-Pitts Neurons with threshold {threshold}:\")\n",
        "for x1, x2 in test_inputs:\n",
        "    output = mcCullochPitts_AND(x1, x2, threshold)\n",
        "    print(f\"Input: ({x1}, {x2}) -> Output: {output}\")"
      ],
      "metadata": {
        "colab": {
          "base_uri": "https://localhost:8080/"
        },
        "id": "32sYDs8h-oMb",
        "outputId": "97d87928-5e10-4a60-e13d-5b4b05ce1712"
      },
      "execution_count": null,
      "outputs": [
        {
          "output_type": "stream",
          "name": "stdout",
          "text": [
            "AND Function using McCulloch-Pitts Neurons with threshold 2:\n",
            "Input: (0, 0) -> Output: 0\n",
            "Input: (0, 1) -> Output: 0\n",
            "Input: (1, 0) -> Output: 0\n",
            "Input: (1, 1) -> Output: 1\n"
          ]
        }
      ]
    },
    {
      "cell_type": "markdown",
      "source": [
        "AND Function using McCulloch-Pitts Neurons with threshold 1:"
      ],
      "metadata": {
        "id": "p6qlckDw91q-"
      }
    },
    {
      "cell_type": "code",
      "source": [
        "def mcCullochPitts_AND(x1, x2, threshold):\n",
        "   weights = [0.5, 0.5]\n",
        "\n",
        "\n",
        "   weighted_sum = weights[0] * x1 + weights[1] * x2\n",
        "\n",
        "\n",
        "   if weighted_sum >= threshold:\n",
        "       return 1\n",
        "   else:\n",
        "       return 0\n",
        "\n",
        "\n",
        "test_inputs = [(0, 0), (0, 1), (1, 0), (1, 1)]\n",
        "threshold = 1\n",
        "print(f\"AND Function using McCulloch-Pitts Neurons with threshold {threshold}:\")\n",
        "for x1, x2 in test_inputs:\n",
        "   output = mcCullochPitts_AND(x1, x2, threshold)\n",
        "   print(f\"Input: ({x1}, {x2}) -> Output: {output}\")\n"
      ],
      "metadata": {
        "id": "Yc6wN8pm91VG"
      },
      "execution_count": null,
      "outputs": []
    },
    {
      "cell_type": "markdown",
      "source": [
        "OR Function using McCulloch-Pitts Neurons"
      ],
      "metadata": {
        "id": "12tMei0L95q9"
      }
    },
    {
      "cell_type": "code",
      "execution_count": null,
      "metadata": {
        "colab": {
          "base_uri": "https://localhost:8080/"
        },
        "id": "cfEj_gFr-dVx",
        "outputId": "40778cbe-c327-48f0-b91f-a616a292858d"
      },
      "outputs": [
        {
          "output_type": "stream",
          "name": "stdout",
          "text": [
            "OR Function using McCulloch-Pitts Neurons:\n",
            "Input: (0, 0) -> Output: 0\n",
            "Input: (0, 1) -> Output: 1\n",
            "Input: (1, 0) -> Output: 1\n",
            "Input: (1, 1) -> Output: 1\n"
          ]
        }
      ],
      "source": [
        "def mp(x1, x2):\n",
        "    weights = [1, 1]\n",
        "    threshold = 1\n",
        "\n",
        "    weighted_sum = weights[0] * x1 + weights[1] * x2\n",
        "\n",
        "    if weighted_sum >= threshold:\n",
        "        return 1\n",
        "    else:\n",
        "        return 0\n",
        "\n",
        "test_inputs = [(0, 0), (0, 1), (1, 0), (1, 1)]\n",
        "print(\"OR Function using McCulloch-Pitts Neurons:\")\n",
        "for x1, x2 in test_inputs:\n",
        "    output = mcCullochPitts_OR(x1, x2)\n",
        "    print(f\"Input: ({x1}, {x2}) -> Output: {output}\")\n"
      ]
    },
    {
      "cell_type": "markdown",
      "source": [
        "c) Implement a Program to Generate Output for XOR Function Using McCulloch–Pitts Neurons with Threshold Value 1"
      ],
      "metadata": {
        "id": "ZcTVys0AClZC"
      }
    },
    {
      "cell_type": "code",
      "source": [
        "def AND_gate(x1, x2, w1=1, w2=1, threshold=1.5):\n",
        "    s = w1 * x1 + w2 * x2\n",
        "    return 1 if s >= threshold else 0\n",
        "\n",
        "def OR_gate(x1, x2, w1=1, w2=1, threshold=0.5):\n",
        "    s = w1 * x1 + w2 * x2\n",
        "    return 1 if s >= threshold else 0\n",
        "\n",
        "def NOT_gate(x, threshold=0.5):\n",
        "    return 1 if x < threshold else 0\n",
        "\n",
        "def XOR_gate(x1, x2):\n",
        "    not_x1 = NOT_gate(x1)\n",
        "    not_x2 = NOT_gate(x2)\n",
        "\n",
        "    and1 = AND_gate(x1, not_x2)\n",
        "    and2 = AND_gate(not_x1, x2)\n",
        "\n",
        "    xor = OR_gate(and1, and2)\n",
        "    return xor\n",
        "\n",
        "# Inputs\n",
        "X1 = [1, 1, 0, 0]\n",
        "X2 = [1, 0, 1, 0]\n",
        "\n",
        "output = [XOR_gate(x1, x2) for x1, x2 in zip(X1, X2)]\n",
        "\n",
        "print(\"XOR Output:\", output)\n"
      ],
      "metadata": {
        "colab": {
          "base_uri": "https://localhost:8080/"
        },
        "id": "YLbnCLBM-HrN",
        "outputId": "67797851-fdde-4d93-f019-af4672d7d608"
      },
      "execution_count": null,
      "outputs": [
        {
          "output_type": "stream",
          "name": "stdout",
          "text": [
            "XOR Output: [0, 1, 1, 0]\n"
          ]
        }
      ]
    },
    {
      "cell_type": "markdown",
      "source": [
        "d) Implement a Program to Generate Output for ANDNOT Function Using McCulloch–Pitts Neurons"
      ],
      "metadata": {
        "id": "BBp74wSC-BZW"
      }
    },
    {
      "cell_type": "code",
      "source": [
        "def AND_gate(x1, x2, w1=1, w2=1, threshold=1.5):\n",
        "    # Weighted sum\n",
        "    s = w1 * x1 + w2 * x2\n",
        "    return 1 if s >= threshold else 0\n",
        "\n",
        "def NOT_gate(x, threshold=0.5):\n",
        "    return 1 if x < threshold else 0\n",
        "\n",
        "def ANDNOT_gate(x1, x2):\n",
        "    # ANDNOT(A, B) = A AND (NOT B)\n",
        "    not_x2 = NOT_gate(x2)\n",
        "    andnot = AND_gate(x1, not_x2)\n",
        "    return andnot\n",
        "\n",
        "# Inputs\n",
        "X1 = [1, 1, 0, 0]\n",
        "X2 = [1, 0, 1, 0]\n",
        "\n",
        "# Generate ANDNOT output\n",
        "output = [ANDNOT_gate(x1, x2) for x1, x2 in zip(X1, X2)]\n",
        "\n",
        "print(\"ANDNOT Output:\", output)\n"
      ],
      "metadata": {
        "colab": {
          "base_uri": "https://localhost:8080/"
        },
        "id": "iV5ua1cp-IVl",
        "outputId": "a830d3ad-1579-4d11-a422-6c5482fc1846"
      },
      "execution_count": null,
      "outputs": [
        {
          "output_type": "stream",
          "name": "stdout",
          "text": [
            "ANDNOT Output: [0, 1, 0, 0]\n"
          ]
        }
      ]
    },
    {
      "cell_type": "markdown",
      "source": [],
      "metadata": {
        "id": "H29oDZBh-BBO"
      }
    },
    {
      "cell_type": "code",
      "source": [],
      "metadata": {
        "id": "Ea8tYXzODZHL"
      },
      "execution_count": null,
      "outputs": []
    }
  ]
}