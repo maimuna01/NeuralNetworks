{
  "nbformat": 4,
  "nbformat_minor": 0,
  "metadata": {
    "colab": {
      "provenance": [],
      "authorship_tag": "ABX9TyNzi9QIY6VlJv2Qr6lj0uLN",
      "include_colab_link": true
    },
    "kernelspec": {
      "name": "python3",
      "display_name": "Python 3"
    },
    "language_info": {
      "name": "python"
    }
  },
  "cells": [
    {
      "cell_type": "markdown",
      "metadata": {
        "id": "view-in-github",
        "colab_type": "text"
      },
      "source": [
        "<a href=\"https://colab.research.google.com/github/maimuna01/NeuralNetworks/blob/main/Hebbian.ipynb\" target=\"_parent\"><img src=\"https://colab.research.google.com/assets/colab-badge.svg\" alt=\"Open In Colab\"/></a>"
      ]
    },
    {
      "cell_type": "code",
      "source": [
        "import numpy as np\n",
        "\n",
        "# Activation function (bipolar step function)\n",
        "def activation_function(x):\n",
        "    return 1 if x >= 0 else -1\n",
        "\n",
        "# Initialize weights for the network\n",
        "def initialize_weights():\n",
        "    # Weights for input to hidden layer (2 inputs to 2 hidden neurons)\n",
        "    weights_input_hidden = np.array([[0.5, -0.5], [-0.5, 0.5]])\n",
        "    # Weights for hidden to output layer (2 hidden neurons to 1 output neuron)\n",
        "    weights_hidden_output = np.array([1.0, 1.0])\n",
        "    return weights_input_hidden, weights_hidden_output\n",
        "\n",
        "# Train the network using Hebbian learning\n",
        "def train_xor(weights_input_hidden, weights_hidden_output, learning_rate, num_epochs):\n",
        "    # XOR truth table (bipolar inputs)\n",
        "    XOR_dataset = [([-1, -1], -1), ([-1, 1], 1), ([1, -1], 1), ([1, 1], -1)]\n",
        "\n",
        "    for epoch in range(num_epochs):\n",
        "        for (inputs, target) in XOR_dataset:\n",
        "            # Forward pass\n",
        "            z1 = activation_function(np.dot(inputs, weights_input_hidden[:, 0]))  # z1 = x1 AND NOT x2\n",
        "            z2 = activation_function(np.dot(inputs, weights_input_hidden[:, 1]))  # z2 = NOT x1 AND x2\n",
        "            output = activation_function(z1 * weights_hidden_output[0] + z2 * weights_hidden_output[1])  # output = z1 OR z2\n",
        "\n",
        "            # Compute error\n",
        "            error = target - output\n",
        "\n",
        "            # Update weights for hidden to output layer\n",
        "            weights_hidden_output[0] += learning_rate * z1 * error\n",
        "            weights_hidden_output[1] += learning_rate * z2 * error\n",
        "\n",
        "            # Update weights for input to hidden layer\n",
        "            for i in range(2):  # For each input\n",
        "                for j in range(2):  # For each hidden neuron\n",
        "                    # Update weight based on Hebbian learning\n",
        "                    weights_input_hidden[i][j] += learning_rate * inputs[i] * (error * weights_hidden_output[j]) * (1 - z1 if j == 0 else 1 - z2)\n",
        "\n",
        "    return weights_input_hidden, weights_hidden_output\n",
        "\n",
        "# Main function\n",
        "def main():\n",
        "    learning_rate = 0.1\n",
        "    num_epochs = 10000\n",
        "\n",
        "    # Initialize weights\n",
        "    weights_input_hidden, weights_hidden_output = initialize_weights()\n",
        "\n",
        "    # Train the XOR network\n",
        "    weights_input_hidden, weights_hidden_output = train_xor(weights_input_hidden, weights_hidden_output, learning_rate, num_epochs)\n",
        "    print(weights_input_hidden)\n",
        "\n",
        "    # Test the trained network\n",
        "    print(\"Testing the trained XOR network:\")\n",
        "    for (inputs, target) in [([-1, -1], -1), ([-1, 1], 1), ([1, -1], 1), ([1, 1], -1)]:\n",
        "        z1 = activation_function(np.dot(inputs, weights_input_hidden[:, 0]))\n",
        "        z2 = activation_function(np.dot(inputs, weights_input_hidden[:, 1]))\n",
        "        output = activation_function(z1 * weights_hidden_output[0] + z2 * weights_hidden_output[1])\n",
        "        print(f\"Input: {inputs}, Predicted Output: {output}, Target Output: {target}\")\n",
        "        #print(f\"Input: {inputs}, z1: {z1}, z2: {z2}\")\n",
        "\n",
        "if __name__ == \"__main__\":\n",
        "    main()\n"
      ],
      "metadata": {
        "colab": {
          "base_uri": "https://localhost:8080/"
        },
        "id": "nxjcGL3MFgrD",
        "outputId": "c3a024d5-e660-4067-df23-b24799f2a9dc"
      },
      "execution_count": null,
      "outputs": [
        {
          "output_type": "stream",
          "name": "stdout",
          "text": [
            "[[ 0.5 -0.5]\n",
            " [-0.5  0.5]]\n",
            "Testing the trained XOR network:\n",
            "Input: [-1, -1], Predicted Output: -1, Target Output: -1\n",
            "Input: [-1, 1], Predicted Output: 1, Target Output: 1\n",
            "Input: [1, -1], Predicted Output: 1, Target Output: 1\n",
            "Input: [1, 1], Predicted Output: -1, Target Output: -1\n"
          ]
        }
      ]
    },
    {
      "cell_type": "code",
      "source": [
        "\n",
        "import numpy as np\n",
        "\n",
        "# Input array including the bias term (last column)\n",
        "X = np.array([\n",
        "    [-1, -1, 1],  # X1\n",
        "    [-1, 1, 1],   # X2\n",
        "    [1, -1, 1],   # X3\n",
        "    [1, 1, 1]     # X4\n",
        "])\n",
        "\n",
        "# Target output for AND Gate\n",
        "Y_AND = np.array([-1, -1, -1, 1])\n",
        "\n",
        "# Initialize weights and bias to zero (3 weights including bias)\n",
        "weights_AND = np.zeros(3)\n",
        "\n",
        "# Hebbian learning algorithm for AND Gate\n",
        "for i in range(X.shape[0]):\n",
        "    # Update weights based on the Hebbian rule\n",
        "    weights_AND += X[i, :] * Y_AND[i]\n",
        "\n",
        "# Display the final weights and bias for AND Gate\n",
        "print('Final Weights and Bias for AND Gate:')\n",
        "print(weights_AND)\n",
        "\n",
        "# Calculate output for AND after training\n",
        "output_AND = np.sign(X @ weights_AND)\n",
        "\n",
        "print('Output for AND Gate after Training:')\n",
        "print(output_AND)\n"
      ],
      "metadata": {
        "id": "mxPc2eI2XJjU"
      },
      "execution_count": null,
      "outputs": []
    }
  ]
}